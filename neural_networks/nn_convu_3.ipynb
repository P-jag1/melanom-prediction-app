{
 "cells": [
  {
   "cell_type": "code",
   "execution_count": null,
   "metadata": {},
   "outputs": [],
   "source": [
    "import numpy as np\n",
    "import time\n",
    "from scipy import misc, ndimage\n",
    "from PIL import Image\n",
    "import matplotlib.pyplot as plt\n",
    "import random\n",
    "import os\n",
    "from data_loader import *\n",
    "from data_visualizer import *\n",
    "\n",
    "np.random.seed(2018)\n",
    "\n",
    "import keras\n",
    "from keras.models import Sequential\n",
    "from keras.layers import Activation, Dense, Flatten, Dropout,  Conv2D, MaxPooling2D\n",
    "from keras.optimizers import SGD, Adam\n",
    "from sklearn.metrics import accuracy_score, f1_score\n",
    "from keras.models import load_model\n",
    "from keras.utils import plot_model\n",
    "from keras.optimizers import SGD, Adam\n",
    "from keras.callbacks import CSVLogger, ReduceLROnPlateau\n",
    "from keras_sequential_ascii import keras2ascii\n",
    "from sklearn.metrics import accuracy_score, f1_score"
   ]
  },
  {
   "cell_type": "code",
   "execution_count": null,
   "metadata": {},
   "outputs": [],
   "source": [
    "#inicializace dat\n",
    "x_train, y_train = load_data()\n",
    "x_test, y_test = load_test_data()\n",
    "print(x_train.shape)\n",
    "print(x_test.shape)"
   ]
  },
  {
   "cell_type": "code",
   "execution_count": null,
   "metadata": {},
   "outputs": [],
   "source": [
    "#zobrazení příkladů trénovacího souboru\n",
    "visualize_examples(x_train, y_train, 10)"
   ]
  },
  {
   "cell_type": "code",
   "execution_count": null,
   "metadata": {},
   "outputs": [],
   "source": [
    "# vytvoření modelu neuronové sítě\n",
    "def train_model( x_train, y_train, epochs, batch_size, optimizer):\n",
    "    \n",
    "    #inicializace parametrů\n",
    "    epochs_n = epochs\n",
    "    batch_size_n = batch_size\n",
    "\n",
    "    #vytvoření konvolučního modelu\n",
    "    model = Sequential()\n",
    " \n",
    "    model.add(Conv2D(32, (3, 3), padding='same', activation='relu', input_shape=(64,64,3)))\n",
    "    model.add(MaxPooling2D(pool_size=(2,2)))\n",
    "    model.add(Dropout(0.25))\n",
    " \n",
    "    model.add(Conv2D(64,(3, 3),padding='same', activation='relu'))\n",
    "    model.add(Conv2D(64,(3, 3),padding='same', activation='relu'))\n",
    "    model.add(MaxPooling2D(pool_size=(2,2)))\n",
    "    model.add(Dropout(0.25))\n",
    "\n",
    "    model.add(Conv2D(128,(3, 3),padding='same',activation='relu'))\n",
    "    model.add(Conv2D(128,(3, 3),padding='same',activation='relu'))\n",
    "    model.add(MaxPooling2D(pool_size=(2,2)))\n",
    "    model.add(Dropout(0.25))\n",
    " \n",
    "    model.add(Flatten())\n",
    "    model.add(Dense(1024,activation='relu'))\n",
    "    model.add(Dropout(0.5))\n",
    "    model.add(Dense(1, activation='sigmoid'))\n",
    "\n",
    "    #nastavení optimizeru\n",
    "    if (optimizer == 'sgd'):\n",
    "        sgd = SGD(lr=0.01, momentum=0.0, decay=0.0, nesterov=True)\n",
    "        model.compile(optimizer = sgd, loss = \"binary_crossentropy\", metrics = [\"accuracy\"])\n",
    "        \n",
    "    elif (optimizer == 'adam'):\n",
    "        adam = Adam(lr=0.001, beta_1=0.9, beta_2=0.999, epsilon=1e-08, decay=0.0)\n",
    "        model.compile(optimizer = adam, loss = \"binary_crossentropy\", metrics = [\"accuracy\"])\n",
    "\n",
    "    start = time.time()\n",
    "    # vytvoření logu trénování\n",
    "    csv_logger = CSVLogger('melanomNN_convu3.log')\n",
    "    reduce_lr = ReduceLROnPlateau(monitor='val_loss', factor=0.2,\n",
    "                              patience=5, min_lr=0.001)\n",
    "    # trénování modelu model.fit()\n",
    "    history = model.fit(x_train, y_train, validation_split=0.1,  epochs = epochs_n, batch_size = batch_size_n, verbose = 1, callbacks=[csv_logger, reduce_lr])\n",
    "    end = time.time() \n",
    "    \n",
    "    # vytiskne přehled modelu\n",
    "    print(\"Model took %0.2f seconds to train\"%(end - start))\n",
    "    print(model.summary())\n",
    "    keras2ascii(model)\n",
    "    print_graphs(history)\n",
    "    \n",
    "    # uložení modelu jako .h5\n",
    "    model.save(r'C:\\Users\\Petr\\Desktop\\melanomNN_convu3.h5')\n",
    "    \n",
    "    return history, model"
   ]
  },
  {
   "cell_type": "code",
   "execution_count": null,
   "metadata": {
    "scrolled": false
   },
   "outputs": [],
   "source": [
    "# trénování modelu\n",
    "history, model = train_model(x_train, y_train, 100, 32, 'sgd')"
   ]
  },
  {
   "cell_type": "code",
   "execution_count": null,
   "metadata": {},
   "outputs": [],
   "source": [
    "#odstranit stávající model\n",
    "del model"
   ]
  },
  {
   "cell_type": "code",
   "execution_count": null,
   "metadata": {},
   "outputs": [],
   "source": [
    "#načtení uloženého modelu\n",
    "model = load_model('melanomNN_convu3.h5')"
   ]
  },
  {
   "cell_type": "code",
   "execution_count": null,
   "metadata": {},
   "outputs": [],
   "source": [
    "# metoda pro udělání predikce na testovacím souboru\n",
    "def prediction_test(model, x_test, y_test):\n",
    "    \n",
    "    test_predictions = model.predict(x_test)\n",
    "    test_predictions = np.round(test_predictions)\n",
    "\n",
    "    # vrácení přesnosti predikce\n",
    "    accuracy = accuracy_score(y_test, test_predictions)\n",
    "    print(\"Přesnost testovacího datasetu: \" + str(accuracy * 100) + \"%\")\n",
    "    \n",
    "    return test_predictions"
   ]
  },
  {
   "cell_type": "code",
   "execution_count": null,
   "metadata": {},
   "outputs": [],
   "source": [
    "# zobrazení testovacích dat\n",
    "visualize_examples(x_test, y_test, 10)"
   ]
  },
  {
   "cell_type": "code",
   "execution_count": null,
   "metadata": {},
   "outputs": [],
   "source": [
    "# predikce testovacího souboru\n",
    "test_predictions = prediction_test(model, x_test, y_test)"
   ]
  },
  {
   "cell_type": "code",
   "execution_count": null,
   "metadata": {},
   "outputs": [],
   "source": [
    "# zobrazení nesprávně označených obrázků\n",
    "visualize_incorrect_labels(x_test, y_test, np.asarray(test_predictions).ravel())"
   ]
  }
 ],
 "metadata": {
  "kernelspec": {
   "display_name": "Python 3",
   "language": "python",
   "name": "python3"
  },
  "language_info": {
   "codemirror_mode": {
    "name": "ipython",
    "version": 3
   },
   "file_extension": ".py",
   "mimetype": "text/x-python",
   "name": "python",
   "nbconvert_exporter": "python",
   "pygments_lexer": "ipython3",
   "version": "3.6.6"
  }
 },
 "nbformat": 4,
 "nbformat_minor": 2
}
